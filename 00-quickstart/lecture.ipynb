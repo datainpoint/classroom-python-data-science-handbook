{
 "cells": [
  {
   "cell_type": "markdown",
   "id": "195ff2be",
   "metadata": {
    "slideshow": {
     "slide_type": "slide"
    }
   },
   "source": [
    "# Python 的 50+ 練習：資料科學學習手冊\n",
    "\n",
    "> 快速複習\n",
    "\n",
    "[數聚點](https://www.datainpoint.com/) | 郭耀仁 <yaojenkuo@datainpoint.com>"
   ]
  },
  {
   "cell_type": "markdown",
   "id": "3edd6253",
   "metadata": {
    "slideshow": {
     "slide_type": "slide"
    }
   },
   "source": [
    "## 函數"
   ]
  },
  {
   "cell_type": "markdown",
   "id": "e199f244",
   "metadata": {
    "slideshow": {
     "slide_type": "subslide"
    }
   },
   "source": [
    "## 什麼是函數\n",
    "\n",
    "一段被賦予名稱的程式碼，能夠完成某一個文字處理或者數值計算任務，使用（呼叫）某個函數之前，必須先確定這個函數在執行的範疇中已經被定義妥善。"
   ]
  },
  {
   "cell_type": "markdown",
   "id": "12625add",
   "metadata": {
    "slideshow": {
     "slide_type": "subslide"
    }
   },
   "source": [
    "## 「哈囉世界」Hello, world!"
   ]
  },
  {
   "cell_type": "code",
   "execution_count": 1,
   "id": "5a56fc0a",
   "metadata": {},
   "outputs": [
    {
     "name": "stdout",
     "output_type": "stream",
     "text": [
      "Hello, world!\n"
     ]
    }
   ],
   "source": [
    "print(\"Hello, world!\")"
   ]
  },
  {
   "cell_type": "markdown",
   "id": "92a1af64",
   "metadata": {
    "slideshow": {
     "slide_type": "subslide"
    }
   },
   "source": [
    "## 「哈囉世界」中所使用的 `print()` 是什麼？\n",
    "\n",
    "- `print()` 是 Python 的「內建函數」。\n",
    "- 「內建」所指的意思是不需要先行「定義」就可以使用的函數。\n",
    "- Python 的內建函數：https://docs.python.org/3/library/functions.html"
   ]
  },
  {
   "cell_type": "markdown",
   "id": "258254bb",
   "metadata": {
    "slideshow": {
     "slide_type": "subslide"
    }
   },
   "source": [
    "## 函數有四個來源\n",
    "\n",
    "1. 來自「內建函數」：https://docs.python.org/3/library/functions.html\n",
    "2. 來自標準模組：https://docs.python.org/3/library\n",
    "3. 來自第三方模組。\n",
    "4. 來自使用者的定義。"
   ]
  },
  {
   "cell_type": "markdown",
   "id": "7747131a",
   "metadata": {
    "slideshow": {
     "slide_type": "subslide"
    }
   },
   "source": [
    "## 來自「內建函數」\n",
    "\n",
    "https://docs.python.org/3/library/functions.html"
   ]
  },
  {
   "cell_type": "code",
   "execution_count": 2,
   "id": "2e25bb9f",
   "metadata": {},
   "outputs": [
    {
     "data": {
      "text/plain": [
       "125"
      ]
     },
     "execution_count": 2,
     "metadata": {},
     "output_type": "execute_result"
    }
   ],
   "source": [
    "pow(5, 3)"
   ]
  },
  {
   "cell_type": "markdown",
   "id": "f25ae4e8",
   "metadata": {
    "slideshow": {
     "slide_type": "subslide"
    }
   },
   "source": [
    "## 來自標準模組\n",
    "\n",
    "https://docs.python.org/3/library"
   ]
  },
  {
   "cell_type": "code",
   "execution_count": 3,
   "id": "776165c0",
   "metadata": {},
   "outputs": [
    {
     "data": {
      "text/plain": [
       "4"
      ]
     },
     "execution_count": 3,
     "metadata": {},
     "output_type": "execute_result"
    }
   ],
   "source": [
    "from random import randint\n",
    "\n",
    "randint(1, 11)"
   ]
  },
  {
   "cell_type": "markdown",
   "id": "a1934349",
   "metadata": {
    "slideshow": {
     "slide_type": "subslide"
    }
   },
   "source": [
    "## 來自第三方模組"
   ]
  },
  {
   "cell_type": "code",
   "execution_count": 4,
   "id": "a52a4fe2",
   "metadata": {},
   "outputs": [
    {
     "data": {
      "text/plain": [
       "array([45, 81, 61, 55, 20])"
      ]
     },
     "execution_count": 4,
     "metadata": {},
     "output_type": "execute_result"
    }
   ],
   "source": [
    "import numpy as np\n",
    "\n",
    "np.random.randint(1, 100, size=5)"
   ]
  },
  {
   "cell_type": "markdown",
   "id": "5618399e",
   "metadata": {
    "slideshow": {
     "slide_type": "subslide"
    }
   },
   "source": [
    "## 來自使用者的定義"
   ]
  },
  {
   "cell_type": "code",
   "execution_count": 5,
   "id": "4b1b9d2a",
   "metadata": {},
   "outputs": [
    {
     "data": {
      "text/plain": [
       "125"
      ]
     },
     "execution_count": 5,
     "metadata": {},
     "output_type": "execute_result"
    }
   ],
   "source": [
    "def power(x: int, n: int) -> int:\n",
    "    \"\"\"\n",
    "    Equivalent to x**n.\n",
    "    \"\"\"\n",
    "    out = x**n\n",
    "    return out\n",
    "\n",
    "power(5, 3)"
   ]
  },
  {
   "cell_type": "markdown",
   "id": "dec3d32d",
   "metadata": {
    "slideshow": {
     "slide_type": "subslide"
    }
   },
   "source": [
    "## 自行定義函數的結構\n",
    "\n",
    "```python\n",
    "def function_name(INPUTS: type, PARAMETERS: type, ...) -> type:\n",
    "    # body of function_name\n",
    "    \"\"\"\n",
    "    docstring: print documentation when help() is called on function_name.\n",
    "    \"\"\"\n",
    "    # sequence of statements\n",
    "    return OUTPUTS\n",
    "```"
   ]
  },
  {
   "cell_type": "markdown",
   "id": "9e13bcdc",
   "metadata": {
    "slideshow": {
     "slide_type": "subslide"
    }
   },
   "source": [
    "## 輸入與參數在函數定義與使用（呼叫）時的差別\n",
    "\n",
    "- 定義時稱為輸入（Inputs）或參數（Parameters）。\n",
    "- 使用（呼叫）函數時稱為引數（Arguments）。"
   ]
  },
  {
   "cell_type": "code",
   "execution_count": 6,
   "id": "000e7be3",
   "metadata": {},
   "outputs": [
    {
     "data": {
      "text/plain": [
       "125"
      ]
     },
     "execution_count": 6,
     "metadata": {},
     "output_type": "execute_result"
    }
   ],
   "source": [
    "def power(x: int, n: int) -> int:\n",
    "    \"\"\"\n",
    "    Equivalent to x**n.\n",
    "    \"\"\"\n",
    "    out = x**n\n",
    "    return out\n",
    "\n",
    "a = 5 # Argument\n",
    "b = 3 # Argument\n",
    "power(a, b) # Arguments"
   ]
  },
  {
   "cell_type": "markdown",
   "id": "2f8a50fe",
   "metadata": {
    "slideshow": {
     "slide_type": "slide"
    }
   },
   "source": [
    "## 資料類別"
   ]
  },
  {
   "cell_type": "markdown",
   "id": "809a52fb",
   "metadata": {
    "slideshow": {
     "slide_type": "subslide"
    }
   },
   "source": [
    "## Python 基礎資料類別\n",
    "\n",
    "- 整數 `int`\n",
    "- 浮點數 `float`\n",
    "- 文字 `str`\n",
    "- 布林`bool`\n",
    "- 未定義值 `NoneType`"
   ]
  },
  {
   "cell_type": "code",
   "execution_count": 7,
   "id": "b17b71fe",
   "metadata": {
    "slideshow": {
     "slide_type": "subslide"
    }
   },
   "outputs": [
    {
     "name": "stdout",
     "output_type": "stream",
     "text": [
      "<class 'int'>\n"
     ]
    }
   ],
   "source": [
    "pythons_major_version = 3\n",
    "print(type(pythons_major_version))"
   ]
  },
  {
   "cell_type": "code",
   "execution_count": 8,
   "id": "1914d74c",
   "metadata": {
    "slideshow": {
     "slide_type": "subslide"
    }
   },
   "outputs": [
    {
     "name": "stdout",
     "output_type": "stream",
     "text": [
      "<class 'float'>\n"
     ]
    }
   ],
   "source": [
    "pi = 3.14159\n",
    "print(type(pi))"
   ]
  },
  {
   "cell_type": "code",
   "execution_count": 9,
   "id": "716f03db",
   "metadata": {
    "slideshow": {
     "slide_type": "subslide"
    }
   },
   "outputs": [
    {
     "name": "stdout",
     "output_type": "stream",
     "text": [
      "<class 'str'>\n"
     ]
    }
   ],
   "source": [
    "programming_language = \"Python\"\n",
    "print(type(programming_language))"
   ]
  },
  {
   "cell_type": "code",
   "execution_count": 10,
   "id": "abcbeecf",
   "metadata": {
    "slideshow": {
     "slide_type": "subslide"
    }
   },
   "outputs": [
    {
     "name": "stdout",
     "output_type": "stream",
     "text": [
      "<class 'bool'>\n",
      "<class 'bool'>\n"
     ]
    }
   ],
   "source": [
    "is_python_specific_purposed = False\n",
    "is_python_general_purposed = True\n",
    "print(type(is_python_specific_purposed))\n",
    "print(type(is_python_general_purposed))"
   ]
  },
  {
   "cell_type": "code",
   "execution_count": 11,
   "id": "30e5ca63",
   "metadata": {
    "slideshow": {
     "slide_type": "subslide"
    }
   },
   "outputs": [
    {
     "name": "stdout",
     "output_type": "stream",
     "text": [
      "<class 'NoneType'>\n"
     ]
    }
   ],
   "source": [
    "a_none = None\n",
    "print(type(a_none))"
   ]
  },
  {
   "cell_type": "markdown",
   "id": "f28232e0",
   "metadata": {
    "slideshow": {
     "slide_type": "slide"
    }
   },
   "source": [
    "## 條件判斷"
   ]
  },
  {
   "cell_type": "markdown",
   "id": "d2170d32",
   "metadata": {
    "slideshow": {
     "slide_type": "subslide"
    }
   },
   "source": [
    "## `if`\n",
    "\n",
    "```python\n",
    "if CONDITION:\n",
    "    # Code chunk to be executed when CONDITION == True\n",
    "```"
   ]
  },
  {
   "cell_type": "code",
   "execution_count": 12,
   "id": "a13b8a9e",
   "metadata": {},
   "outputs": [
    {
     "name": "stdout",
     "output_type": "stream",
     "text": [
      "0 is non-negative.\n"
     ]
    }
   ],
   "source": [
    "zero = 0\n",
    "if zero >= 0:\n",
    "    print(f\"{zero} is non-negative.\")"
   ]
  },
  {
   "cell_type": "markdown",
   "id": "e66cb20e",
   "metadata": {
    "slideshow": {
     "slide_type": "subslide"
    }
   },
   "source": [
    "## `if...else...`\n",
    "\n",
    "```python\n",
    "if CONDITION:\n",
    "    # Code chunk to be executed when CONDITION == True\n",
    "else:\n",
    "    # Code chunk to be executed when CONDITION == False\n",
    "```"
   ]
  },
  {
   "cell_type": "code",
   "execution_count": 13,
   "id": "534e9cfd",
   "metadata": {},
   "outputs": [
    {
     "name": "stdout",
     "output_type": "stream",
     "text": [
      "-3.14159 is negative.\n"
     ]
    }
   ],
   "source": [
    "negative_pi = -3.14159\n",
    "if negative_pi >= 0:\n",
    "    print(f\"{negative_pi} is non-negative.\")\n",
    "else:\n",
    "    print(f\"{negative_pi} is negative.\")"
   ]
  },
  {
   "cell_type": "markdown",
   "id": "6fd0146f",
   "metadata": {
    "slideshow": {
     "slide_type": "subslide"
    }
   },
   "source": [
    "## `if...elif...else...`\n",
    "\n",
    "```python\n",
    "if CONDITION_A:\n",
    "    # Code chunk to be executed when CONDITION_A == True\n",
    "elif CONDITION_B:\n",
    "    # Code chunk to be executed when CONDITION_A == False and CONDITION_B == True\n",
    "else:\n",
    "    # Code chunk to be executed when CONDITION_A == False and CONDITION_B == False\n",
    "```"
   ]
  },
  {
   "cell_type": "code",
   "execution_count": 14,
   "id": "3f89730f",
   "metadata": {},
   "outputs": [
    {
     "name": "stdout",
     "output_type": "stream",
     "text": [
      "0 is neutral.\n"
     ]
    }
   ],
   "source": [
    "zero = 0\n",
    "if zero > 0:\n",
    "    print(f\"{zero} is positive.\")\n",
    "elif zero < 0:\n",
    "    print(f\"{zero} is negative.\")\n",
    "else:\n",
    "    print(f\"{zero} is neutral.\")"
   ]
  },
  {
   "cell_type": "markdown",
   "id": "c3eac83a",
   "metadata": {
    "slideshow": {
     "slide_type": "slide"
    }
   },
   "source": [
    "## `while` 迴圈"
   ]
  },
  {
   "cell_type": "markdown",
   "id": "ef837d13",
   "metadata": {
    "slideshow": {
     "slide_type": "subslide"
    }
   },
   "source": [
    "## `while` 迴圈的結構\n",
    "\n",
    "```python\n",
    "start = 0\n",
    "while CONDITION:\n",
    "    # Code chunk to be executed repeatedly when CONDITION == True\n",
    "    start += step\n",
    "```"
   ]
  },
  {
   "cell_type": "code",
   "execution_count": 15,
   "id": "f554d591",
   "metadata": {
    "slideshow": {
     "slide_type": "subslide"
    }
   },
   "outputs": [
    {
     "name": "stdout",
     "output_type": "stream",
     "text": [
      "0\n",
      "2\n",
      "4\n",
      "6\n",
      "8\n",
      "10\n"
     ]
    }
   ],
   "source": [
    "start = 0\n",
    "while start <= 10:\n",
    "    print(start)\n",
    "    start += 2"
   ]
  },
  {
   "cell_type": "code",
   "execution_count": 16,
   "id": "909e978e",
   "metadata": {
    "slideshow": {
     "slide_type": "subslide"
    }
   },
   "outputs": [
    {
     "name": "stdout",
     "output_type": "stream",
     "text": [
      "1\n",
      "3\n",
      "5\n",
      "7\n",
      "9\n"
     ]
    }
   ],
   "source": [
    "start = 1\n",
    "while start <= 10:\n",
    "    print(start)\n",
    "    start += 2"
   ]
  },
  {
   "cell_type": "markdown",
   "id": "8718fc47",
   "metadata": {
    "slideshow": {
     "slide_type": "slide"
    }
   },
   "source": [
    "## 資料結構類別"
   ]
  },
  {
   "cell_type": "markdown",
   "id": "d9208082",
   "metadata": {
    "slideshow": {
     "slide_type": "subslide"
    }
   },
   "source": [
    "## Python 基礎資料結構類別\n",
    "\n",
    "- `list`\n",
    "- `tuple`\n",
    "- `dict`\n",
    "- `set`"
   ]
  },
  {
   "cell_type": "code",
   "execution_count": 17,
   "id": "7ca5d610",
   "metadata": {
    "slideshow": {
     "slide_type": "subslide"
    }
   },
   "outputs": [
    {
     "data": {
      "text/plain": [
       "list"
      ]
     },
     "execution_count": 17,
     "metadata": {},
     "output_type": "execute_result"
    }
   ],
   "source": [
    "primes = [2, 3, 5, 7, 11]\n",
    "type(primes)"
   ]
  },
  {
   "cell_type": "code",
   "execution_count": 18,
   "id": "a6561014",
   "metadata": {
    "slideshow": {
     "slide_type": "subslide"
    }
   },
   "outputs": [
    {
     "data": {
      "text/plain": [
       "tuple"
      ]
     },
     "execution_count": 18,
     "metadata": {},
     "output_type": "execute_result"
    }
   ],
   "source": [
    "primes = (2, 3, 5, 7, 11)\n",
    "type(primes)"
   ]
  },
  {
   "cell_type": "code",
   "execution_count": 19,
   "id": "d8533c9e",
   "metadata": {
    "slideshow": {
     "slide_type": "subslide"
    }
   },
   "outputs": [
    {
     "data": {
      "text/plain": [
       "dict"
      ]
     },
     "execution_count": 19,
     "metadata": {},
     "output_type": "execute_result"
    }
   ],
   "source": [
    "primes = {\n",
    "    \"1st\": 2,\n",
    "    \"2nd\": 3,\n",
    "    \"3rd\": 5,\n",
    "    \"4th\": 7,\n",
    "    \"5th\": 11\n",
    "}\n",
    "type(primes)"
   ]
  },
  {
   "cell_type": "code",
   "execution_count": 20,
   "id": "abc80c8e",
   "metadata": {
    "slideshow": {
     "slide_type": "subslide"
    }
   },
   "outputs": [
    {
     "data": {
      "text/plain": [
       "set"
      ]
     },
     "execution_count": 20,
     "metadata": {},
     "output_type": "execute_result"
    }
   ],
   "source": [
    "primes = {2, 3, 5, 7, 11}\n",
    "type(primes)"
   ]
  },
  {
   "cell_type": "markdown",
   "id": "ccd5dda3",
   "metadata": {
    "slideshow": {
     "slide_type": "slide"
    }
   },
   "source": [
    "## `for` 迴圈"
   ]
  },
  {
   "cell_type": "markdown",
   "id": "6c50c264",
   "metadata": {
    "slideshow": {
     "slide_type": "subslide"
    }
   },
   "source": [
    "## `for` 迴圈的結構\n",
    "\n",
    "```python\n",
    "for ITERATOR_VARIABLE in ITERABLE:\n",
    "    # Code chunk to be executed repeatedly until ITERATOR_VARIABLE reaches the end of ITERABLE.\n",
    "```"
   ]
  },
  {
   "cell_type": "code",
   "execution_count": 21,
   "id": "5a9254ba",
   "metadata": {},
   "outputs": [
    {
     "name": "stdout",
     "output_type": "stream",
     "text": [
      "2\n",
      "3\n",
      "5\n",
      "7\n",
      "11\n"
     ]
    }
   ],
   "source": [
    "primes = [2, 3, 5, 7, 11]\n",
    "for prime in primes:\n",
    "    print(prime)"
   ]
  },
  {
   "cell_type": "code",
   "execution_count": 22,
   "id": "174a75b9",
   "metadata": {},
   "outputs": [
    {
     "name": "stdout",
     "output_type": "stream",
     "text": [
      "P\n",
      "y\n",
      "t\n",
      "h\n",
      "o\n",
      "n\n"
     ]
    }
   ],
   "source": [
    "programming_language = \"Python\"\n",
    "for char in programming_language:\n",
    "    print(char)"
   ]
  },
  {
   "cell_type": "markdown",
   "id": "8148a2df",
   "metadata": {
    "slideshow": {
     "slide_type": "slide"
    }
   },
   "source": [
    "## 類別"
   ]
  },
  {
   "cell_type": "markdown",
   "id": "29d17f89",
   "metadata": {
    "slideshow": {
     "slide_type": "subslide"
    }
   },
   "source": [
    "## 使用 `class` 保留字定義類別\n",
    "\n",
    "```python\n",
    "class ClassName:\n",
    "    \"\"\"\n",
    "    docstring: print documentation when __doc__ attribute is accessed\n",
    "    \"\"\"\n",
    "    pass\n",
    "```"
   ]
  },
  {
   "cell_type": "code",
   "execution_count": 23,
   "id": "eb343697",
   "metadata": {
    "slideshow": {
     "slide_type": "subslide"
    }
   },
   "outputs": [
    {
     "name": "stdout",
     "output_type": "stream",
     "text": [
      "<class '__main__.SimpleCalculator'>\n",
      "['__class__', '__delattr__', '__dict__', '__dir__', '__doc__', '__eq__', '__format__', '__ge__', '__getattribute__', '__gt__', '__hash__', '__init__', '__init_subclass__', '__le__', '__lt__', '__module__', '__ne__', '__new__', '__reduce__', '__reduce_ex__', '__repr__', '__setattr__', '__sizeof__', '__str__', '__subclasshook__', '__weakref__']\n",
      "\n",
      "    This class creates a simple calculator that is unable to do anything.\n",
      "    \n"
     ]
    }
   ],
   "source": [
    "class SimpleCalculator:\n",
    "    \"\"\"\n",
    "    This class creates a simple calculator that is unable to do anything.\n",
    "    \"\"\"\n",
    "    pass\n",
    "\n",
    "sc = SimpleCalculator()\n",
    "print(type(sc))\n",
    "print(dir(sc))\n",
    "print(sc.__doc__)"
   ]
  },
  {
   "cell_type": "markdown",
   "id": "5b9a7b8e",
   "metadata": {
    "slideshow": {
     "slide_type": "subslide"
    }
   },
   "source": [
    "## 在類別程式區塊中使用 `def` 保留字將函數與類別綁定\n",
    "\n",
    "與類別綁定的函數，在實例化後稱為物件的方法。\n",
    "\n",
    "```python\n",
    "class ClassName:\n",
    "    \"\"\"\n",
    "    docstring: print documentation when __doc__ attribute is accessed\n",
    "    \"\"\"\n",
    "    def method_name(self):\n",
    "        # sequence of statements\n",
    "```"
   ]
  },
  {
   "cell_type": "code",
   "execution_count": 24,
   "id": "e37b9332",
   "metadata": {
    "slideshow": {
     "slide_type": "subslide"
    }
   },
   "outputs": [
    {
     "name": "stdout",
     "output_type": "stream",
     "text": [
      "11\n"
     ]
    }
   ],
   "source": [
    "class SimpleCalculator:\n",
    "    \"\"\"\n",
    "    This class creates a simple calculator that is able to add 2 numbers.\n",
    "    \"\"\"\n",
    "    def add(self, a, b):\n",
    "        out = a + b\n",
    "        return out\n",
    "\n",
    "sc = SimpleCalculator() # self serves as the proxy object of sc\n",
    "print(sc.add(5, 6))"
   ]
  },
  {
   "cell_type": "markdown",
   "id": "0193ddfb",
   "metadata": {
    "slideshow": {
     "slide_type": "subslide"
    }
   },
   "source": [
    "## 在類別程式區塊中使用 `__init__()` 函數將資料與類別綁定\n",
    "\n",
    "- 與類別綁定的資料，在實例化後稱為物件的屬性。\n",
    "- 開頭與結尾具有雙底線 `__` 的命名是 Python 的特殊命名，其用途已經被保留起來。\n",
    "- `__init__()` 函數顧名思義就是在實例化當下會被呼叫的函數。\n",
    "\n",
    "```python\n",
    "class ClassName:\n",
    "    \"\"\"\n",
    "    docstring: print documentation when __doc__ attribute is accessed\n",
    "    \"\"\"\n",
    "    def __init__(self, attributes):\n",
    "        # sequence of statements\n",
    "```"
   ]
  },
  {
   "cell_type": "code",
   "execution_count": 25,
   "id": "aff17ead",
   "metadata": {
    "slideshow": {
     "slide_type": "subslide"
    }
   },
   "outputs": [
    {
     "name": "stdout",
     "output_type": "stream",
     "text": [
      "5\n",
      "6\n"
     ]
    }
   ],
   "source": [
    "class SimpleCalculator:\n",
    "    \"\"\"\n",
    "    This class creates a simple calculator that has 2 attributes.\n",
    "    \"\"\"\n",
    "    def __init__(self, a, b):\n",
    "        self.a = a\n",
    "        self.b = b\n",
    "\n",
    "sc = SimpleCalculator(5, 6) # self serves as the proxy object of sc\n",
    "print(sc.a)\n",
    "print(sc.b)"
   ]
  }
 ],
 "metadata": {
  "celltoolbar": "Slideshow",
  "kernelspec": {
   "display_name": "Python 3 (ipykernel)",
   "language": "python",
   "name": "python3"
  },
  "language_info": {
   "codemirror_mode": {
    "name": "ipython",
    "version": 3
   },
   "file_extension": ".py",
   "mimetype": "text/x-python",
   "name": "python",
   "nbconvert_exporter": "python",
   "pygments_lexer": "ipython3",
   "version": "3.9.16"
  }
 },
 "nbformat": 4,
 "nbformat_minor": 5
}
