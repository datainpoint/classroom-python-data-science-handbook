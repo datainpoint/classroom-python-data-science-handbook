{
 "cells": [
  {
   "cell_type": "markdown",
   "id": "inappropriate-shock",
   "metadata": {
    "slideshow": {
     "slide_type": "slide"
    }
   },
   "source": [
    "# Python 的 50+ 練習：資料科學學習手冊\n",
    "\n",
    "> 讓程式更簡潔的 Python 技巧\n",
    "\n",
    "[數聚點](https://www.datainpoint.com/) | 郭耀仁 <yaojenkuo@datainpoint.com>"
   ]
  },
  {
   "cell_type": "markdown",
   "id": "prerequisite-accent",
   "metadata": {
    "slideshow": {
     "slide_type": "slide"
    }
   },
   "source": [
    "## Comprehension"
   ]
  },
  {
   "cell_type": "markdown",
   "id": "banner-attention",
   "metadata": {
    "slideshow": {
     "slide_type": "subslide"
    }
   },
   "source": [
    "## 什麼是 Comprehension\n",
    "\n",
    "> Comprehension 指的是依賴可迭代類別來建立 `list`、`dict` 或者 `set` 的語法，Python 2 推出 List comprehension，Python 3 推出 Dictionary comprehension 以及 Set comprehension。\n",
    "\n",
    "來源：<https://python-3-patterns-idioms-test.readthedocs.io/en/latest/>"
   ]
  },
  {
   "cell_type": "markdown",
   "id": "simplified-investigation",
   "metadata": {
    "slideshow": {
     "slide_type": "subslide"
    }
   },
   "source": [
    "## 依賴可迭代類別建立 `list` 的傳統方式\n",
    "\n",
    "```python\n",
    "empty_list = list()\n",
    "for element in iterable:\n",
    "    ...\n",
    "    empty_list.append(...)\n",
    "```"
   ]
  },
  {
   "cell_type": "code",
   "execution_count": 1,
   "id": "consistent-tragedy",
   "metadata": {
    "slideshow": {
     "slide_type": "-"
    }
   },
   "outputs": [
    {
     "data": {
      "text/plain": [
       "[4, 9, 25, 49, 121]"
      ]
     },
     "execution_count": 1,
     "metadata": {},
     "output_type": "execute_result"
    }
   ],
   "source": [
    "primes = [2, 3, 5, 7, 11]\n",
    "squared_primes = list()\n",
    "for prime in primes:\n",
    "    squared_primes.append(prime**2)\n",
    "squared_primes"
   ]
  },
  {
   "cell_type": "markdown",
   "id": "expanded-poison",
   "metadata": {
    "slideshow": {
     "slide_type": "subslide"
    }
   },
   "source": [
    "## 以 `List comprehension` 建立 `list`\n",
    "\n",
    "```python\n",
    "list_comprehension = [... for element in iterable]\n",
    "```"
   ]
  },
  {
   "cell_type": "code",
   "execution_count": 2,
   "id": "bulgarian-shareware",
   "metadata": {},
   "outputs": [
    {
     "data": {
      "text/plain": [
       "[4, 9, 25, 49, 121]"
      ]
     },
     "execution_count": 2,
     "metadata": {},
     "output_type": "execute_result"
    }
   ],
   "source": [
    "squared_primes = list()\n",
    "for prime in primes:\n",
    "    squared_primes.append(prime**2)\n",
    "squared_primes"
   ]
  },
  {
   "cell_type": "code",
   "execution_count": 3,
   "id": "neutral-router",
   "metadata": {},
   "outputs": [
    {
     "data": {
      "text/plain": [
       "[4, 9, 25, 49, 121]"
      ]
     },
     "execution_count": 3,
     "metadata": {},
     "output_type": "execute_result"
    }
   ],
   "source": [
    "squared_primes = [prime**2 for prime in primes]\n",
    "squared_primes"
   ]
  },
  {
   "cell_type": "markdown",
   "id": "sitting-causing",
   "metadata": {
    "slideshow": {
     "slide_type": "subslide"
    }
   },
   "source": [
    "## 在 `List comprehension` 中加入 `if` 條件敘述\n",
    "\n",
    "```python\n",
    "list_comprehension = [... for element in iterable if CONDITION]\n",
    "```"
   ]
  },
  {
   "cell_type": "code",
   "execution_count": 4,
   "id": "early-sculpture",
   "metadata": {},
   "outputs": [
    {
     "data": {
      "text/plain": [
       "[9, 25, 49, 121]"
      ]
     },
     "execution_count": 4,
     "metadata": {},
     "output_type": "execute_result"
    }
   ],
   "source": [
    "squared_odd_primes = list()\n",
    "for prime in primes:\n",
    "    if prime % 2 == 1:\n",
    "        squared_odd_primes.append(prime**2)\n",
    "squared_odd_primes"
   ]
  },
  {
   "cell_type": "code",
   "execution_count": 5,
   "id": "textile-seafood",
   "metadata": {},
   "outputs": [
    {
     "data": {
      "text/plain": [
       "[9, 25, 49, 121]"
      ]
     },
     "execution_count": 5,
     "metadata": {},
     "output_type": "execute_result"
    }
   ],
   "source": [
    "squared_odd_primes = [prime**2 for prime in primes if prime % 2 == 1]\n",
    "squared_odd_primes"
   ]
  },
  {
   "cell_type": "markdown",
   "id": "related-james",
   "metadata": {
    "slideshow": {
     "slide_type": "subslide"
    }
   },
   "source": [
    "## 在 `List comprehension` 中加入 `if...else...` 條件敘述\n",
    "\n",
    "```python\n",
    "list_comprehension = [... if CONDITION else ... for element in iterable]\n",
    "```"
   ]
  },
  {
   "cell_type": "code",
   "execution_count": 6,
   "id": "potential-calendar",
   "metadata": {},
   "outputs": [
    {
     "data": {
      "text/plain": [
       "['Even', 'Odd', 'Odd', 'Odd', 'Odd']"
      ]
     },
     "execution_count": 6,
     "metadata": {},
     "output_type": "execute_result"
    }
   ],
   "source": [
    "even_or_odd = list()\n",
    "for prime in primes:\n",
    "    if prime % 2 == 0:\n",
    "        even_or_odd.append(\"Even\")\n",
    "    else:\n",
    "        even_or_odd.append(\"Odd\")\n",
    "even_or_odd"
   ]
  },
  {
   "cell_type": "code",
   "execution_count": 7,
   "id": "modular-cholesterol",
   "metadata": {},
   "outputs": [
    {
     "data": {
      "text/plain": [
       "['Even', 'Odd', 'Odd', 'Odd', 'Odd']"
      ]
     },
     "execution_count": 7,
     "metadata": {},
     "output_type": "execute_result"
    }
   ],
   "source": [
    "even_or_odd = [\"Even\" if prime % 2 == 0 else \"Odd\" for prime in primes]\n",
    "even_or_odd"
   ]
  },
  {
   "cell_type": "markdown",
   "id": "aerial-emperor",
   "metadata": {
    "slideshow": {
     "slide_type": "subslide"
    }
   },
   "source": [
    "## 以 `Set comprehension` 建立 `set`\n",
    "\n",
    "```python\n",
    "set_comprehension = {... for element in iterable}\n",
    "```"
   ]
  },
  {
   "cell_type": "code",
   "execution_count": 8,
   "id": "blocked-bradley",
   "metadata": {},
   "outputs": [
    {
     "name": "stdout",
     "output_type": "stream",
     "text": [
      "{4, 9, 49, 121, 25}\n",
      "<class 'set'>\n"
     ]
    }
   ],
   "source": [
    "squared_primes = {prime**2 for prime in primes}\n",
    "print(squared_primes)\n",
    "print(type(squared_primes))"
   ]
  },
  {
   "cell_type": "markdown",
   "id": "collective-queensland",
   "metadata": {
    "slideshow": {
     "slide_type": "subslide"
    }
   },
   "source": [
    "## 以 `Dictionary comprehension` 建立 `dict`\n",
    "\n",
    "```python\n",
    "dict_comprehension = {key: value for element in iterable}\n",
    "```"
   ]
  },
  {
   "cell_type": "code",
   "execution_count": 9,
   "id": "charitable-brook",
   "metadata": {},
   "outputs": [
    {
     "name": "stdout",
     "output_type": "stream",
     "text": [
      "{2: 4, 3: 9, 5: 25, 7: 49, 11: 121}\n",
      "<class 'dict'>\n"
     ]
    }
   ],
   "source": [
    "squared_primes = {prime: prime**2 for prime in primes}\n",
    "print(squared_primes)\n",
    "print(type(squared_primes))"
   ]
  },
  {
   "cell_type": "markdown",
   "id": "invisible-diversity",
   "metadata": {
    "slideshow": {
     "slide_type": "subslide"
    }
   },
   "source": [
    "## 為什麼沒有 `Tuple comprehension`"
   ]
  },
  {
   "cell_type": "code",
   "execution_count": 10,
   "id": "pharmaceutical-modeling",
   "metadata": {},
   "outputs": [
    {
     "name": "stdout",
     "output_type": "stream",
     "text": [
      "<generator object <genexpr> at 0x110cea120>\n",
      "<class 'generator'>\n"
     ]
    }
   ],
   "source": [
    "primes = [2, 3, 5, 7, 11]\n",
    "squared_primes = (prime**2 for prime in primes)\n",
    "print(squared_primes)\n",
    "print(type(squared_primes))"
   ]
  },
  {
   "cell_type": "markdown",
   "id": "detected-termination",
   "metadata": {
    "slideshow": {
     "slide_type": "slide"
    }
   },
   "source": [
    "## Generator"
   ]
  },
  {
   "cell_type": "markdown",
   "id": "developing-collar",
   "metadata": {
    "slideshow": {
     "slide_type": "subslide"
    }
   },
   "source": [
    "## 什麼是 Generator\n",
    "\n",
    "Generator 與 Comprehension 相似，不同的地方在於 Comprehension 所產出的是資料結構所儲存的資料，Generator 則是儲存資料的產生規則，必須經過像是類別實例化為物件的處理過程，才會將資料儲存到指定的資料結構中。若是以料理來比喻，Comprehension 的輸出就像是最後上桌的菜餚，而 Generator 的輸出則是該菜餚的食譜。"
   ]
  },
  {
   "cell_type": "markdown",
   "id": "vulnerable-effectiveness",
   "metadata": {
    "slideshow": {
     "slide_type": "subslide"
    }
   },
   "source": [
    "## Generator 的三個特性\n",
    "\n",
    "1. 具備儲存與計算的效率性。\n",
    "2. 沒有顯示外觀。\n",
    "2. 實例化為物件的次數僅有一次。"
   ]
  },
  {
   "cell_type": "code",
   "execution_count": 11,
   "id": "suspected-vietnam",
   "metadata": {
    "slideshow": {
     "slide_type": "-"
    }
   },
   "outputs": [
    {
     "name": "stdout",
     "output_type": "stream",
     "text": [
      "[4, 9, 25, 49, 121]\n",
      "[]\n"
     ]
    }
   ],
   "source": [
    "squared_primes = (prime**2 for prime in primes)\n",
    "print(list(squared_primes))\n",
    "print(list(squared_primes))"
   ]
  },
  {
   "cell_type": "markdown",
   "id": "graphic-disease",
   "metadata": {
    "slideshow": {
     "slide_type": "subslide"
    }
   },
   "source": [
    "## 為什麼要介紹 Generator\n",
    "\n",
    "- ~~故意要混淆大家的腦袋。~~\n",
    "- 很多內建函數的輸出都具備 Generator 的特性。"
   ]
  },
  {
   "cell_type": "markdown",
   "id": "secure-ethnic",
   "metadata": {
    "slideshow": {
     "slide_type": "subslide"
    }
   },
   "source": [
    "## 輸出具有 Generator 特性的內建函數\n",
    "\n",
    "- 迭代器函數\n",
    "    - `reversed()`\n",
    "    - `enumerate()`\n",
    "    - `zip()`\n",
    "- 函數型函數\n",
    "    - `map()`\n",
    "    - `filter()`"
   ]
  },
  {
   "cell_type": "markdown",
   "id": "czech-teach",
   "metadata": {
    "slideshow": {
     "slide_type": "slide"
    }
   },
   "source": [
    "## 迭代器函數"
   ]
  },
  {
   "cell_type": "markdown",
   "id": "compound-quarter",
   "metadata": {
    "slideshow": {
     "slide_type": "subslide"
    }
   },
   "source": [
    "## 什麼是迭代器函數\n",
    "\n",
    "> 迭代器函數（Iterator functions）是能夠輸出為可迭代類別的函數，可迭代類別具有與函數同名的類別名稱，又被稱為迭代器（Iterator），具備有 Generator 的特性。\n",
    "\n",
    "來源：<https://docs.python.org/3/glossary.html>"
   ]
  },
  {
   "cell_type": "markdown",
   "id": "collected-calculator",
   "metadata": {
    "slideshow": {
     "slide_type": "subslide"
    }
   },
   "source": [
    "## `reversed()` 函數\n",
    "\n",
    "- 將可迭代類別順序反轉。\n",
    "- 輸出的類別為 `reversed` 具有 Generator 特性。"
   ]
  },
  {
   "cell_type": "code",
   "execution_count": 12,
   "id": "enhanced-personality",
   "metadata": {
    "slideshow": {
     "slide_type": "-"
    }
   },
   "outputs": [
    {
     "name": "stdout",
     "output_type": "stream",
     "text": [
      "<reversed object at 0x110bea0a0>\n",
      "<class 'reversed'>\n",
      "['s', 'r', 'e', 'g', 'n', 'e', 'v', 'A']\n",
      "[]\n"
     ]
    }
   ],
   "source": [
    "rev = reversed(\"Avengers\")\n",
    "print(rev)\n",
    "print(type(rev))\n",
    "print(list(rev))\n",
    "print(list(rev))"
   ]
  },
  {
   "cell_type": "code",
   "execution_count": 13,
   "id": "chronic-essence",
   "metadata": {},
   "outputs": [
    {
     "name": "stdout",
     "output_type": "stream",
     "text": [
      "s\n",
      "r\n",
      "e\n",
      "g\n",
      "n\n",
      "e\n",
      "v\n",
      "A\n"
     ]
    }
   ],
   "source": [
    "for character in reversed(\"Avengers\"):\n",
    "    print(character)"
   ]
  },
  {
   "cell_type": "markdown",
   "id": "exact-hurricane",
   "metadata": {
    "slideshow": {
     "slide_type": "subslide"
    }
   },
   "source": [
    "## `enumerate()` 函數\n",
    "\n",
    "- 將可迭代類別的「索引」與「元素」以 `tuple` 包括讓迴圈能同時走訪。\n",
    "- 輸出的類別為 `enumerate` 具有 Generator 特性。"
   ]
  },
  {
   "cell_type": "code",
   "execution_count": 14,
   "id": "precious-platform",
   "metadata": {
    "slideshow": {
     "slide_type": "-"
    }
   },
   "outputs": [
    {
     "name": "stdout",
     "output_type": "stream",
     "text": [
      "<enumerate object at 0x110bfd980>\n",
      "<class 'enumerate'>\n",
      "[(0, 'The Avengers'), (1, 'Avengers: Age of Ultron'), (2, 'Avengers: Infinity War'), (3, 'Avengers: Endgame')]\n",
      "[]\n"
     ]
    }
   ],
   "source": [
    "avenger_movies = [\"The Avengers\", \"Avengers: Age of Ultron\", \"Avengers: Infinity War\", \"Avengers: Endgame\"]\n",
    "enum = enumerate(avenger_movies)\n",
    "print(enum)\n",
    "print(type(enum))\n",
    "print(list(enum))\n",
    "print(list(enum))"
   ]
  },
  {
   "cell_type": "code",
   "execution_count": 15,
   "id": "durable-permit",
   "metadata": {
    "slideshow": {
     "slide_type": "-"
    }
   },
   "outputs": [
    {
     "name": "stdout",
     "output_type": "stream",
     "text": [
      "0 | The Avengers\n",
      "1 | Avengers: Age of Ultron\n",
      "2 | Avengers: Infinity War\n",
      "3 | Avengers: Endgame\n"
     ]
    }
   ],
   "source": [
    "avenger_movies = [\"The Avengers\", \"Avengers: Age of Ultron\", \"Avengers: Infinity War\", \"Avengers: Endgame\"]\n",
    "for index, movie in enumerate(avenger_movies):\n",
    "    print(f\"{index} | {movie}\")"
   ]
  },
  {
   "cell_type": "markdown",
   "id": "unlikely-request",
   "metadata": {
    "slideshow": {
     "slide_type": "subslide"
    }
   },
   "source": [
    "## `zip()` 函數\n",
    "\n",
    "- 將多個可迭代類別的「元素」以 `tuple` 包括讓迴圈能同時走訪。\n",
    "- 輸出的類別為 `zip` 具有 Generator 特性。"
   ]
  },
  {
   "cell_type": "code",
   "execution_count": 16,
   "id": "married-analyst",
   "metadata": {
    "slideshow": {
     "slide_type": "-"
    }
   },
   "outputs": [
    {
     "name": "stdout",
     "output_type": "stream",
     "text": [
      "<zip object at 0x110bfb200>\n",
      "<class 'zip'>\n",
      "[(2012, 'The Avengers'), (2015, 'Avengers: Age of Ultron'), (2018, 'Avengers: Infinity War'), (2019, 'Avengers: Endgame')]\n",
      "[]\n"
     ]
    }
   ],
   "source": [
    "avenger_movies = [\"The Avengers\", \"Avengers: Age of Ultron\", \"Avengers: Infinity War\", \"Avengers: Endgame\"]\n",
    "release_years = [2012, 2015, 2018, 2019]\n",
    "zipped = zip(release_years, avenger_movies)\n",
    "print(zipped)\n",
    "print(type(zipped))\n",
    "print(list(zipped))\n",
    "print(list(zipped))"
   ]
  },
  {
   "cell_type": "code",
   "execution_count": 17,
   "id": "russian-serbia",
   "metadata": {
    "slideshow": {
     "slide_type": "-"
    }
   },
   "outputs": [
    {
     "name": "stdout",
     "output_type": "stream",
     "text": [
      "The Avengers was released in 2012.\n",
      "Avengers: Age of Ultron was released in 2015.\n",
      "Avengers: Infinity War was released in 2018.\n",
      "Avengers: Endgame was released in 2019.\n"
     ]
    }
   ],
   "source": [
    "avenger_movies = [\"The Avengers\", \"Avengers: Age of Ultron\", \"Avengers: Infinity War\", \"Avengers: Endgame\"]\n",
    "release_years = [2012, 2015, 2018, 2019]\n",
    "for year, movie in zip(release_years, avenger_movies):\n",
    "    print(f\"{movie} was released in {year}.\")"
   ]
  },
  {
   "cell_type": "markdown",
   "id": "wooden-shaft",
   "metadata": {
    "slideshow": {
     "slide_type": "slide"
    }
   },
   "source": [
    "## 函數型函數"
   ]
  },
  {
   "cell_type": "markdown",
   "id": "accompanied-pitch",
   "metadata": {
    "slideshow": {
     "slide_type": "subslide"
    }
   },
   "source": [
    "## 什麼是函數型函數\n",
    "\n",
    "函數型函數（Functiona functions）亦稱為高階函數，是能夠將可迭代類別中的元素作為參數依序輸入給指定函數的特殊函數。\n",
    "\n",
    "```python\n",
    "def function():\n",
    "    ...\n",
    "    return ...\n",
    "\n",
    "functional_function(function, iterable)\n",
    "```"
   ]
  },
  {
   "cell_type": "markdown",
   "id": "stainless-furniture",
   "metadata": {
    "slideshow": {
     "slide_type": "subslide"
    }
   },
   "source": [
    "## `map()` 函數\n",
    "\n",
    "- 將可迭代類別中的元素作為參數依序傳給指定函數。\n",
    "- 輸出的類別為 `map` 具有 Generator 特性。\n",
    "- 可以省去撰寫迴圈的作法。"
   ]
  },
  {
   "cell_type": "markdown",
   "id": "antique-broad",
   "metadata": {
    "slideshow": {
     "slide_type": "subslide"
    }
   },
   "source": [
    "## 傳統對可迭代類別中的元素使用函數的作法"
   ]
  },
  {
   "cell_type": "code",
   "execution_count": 18,
   "id": "applicable-confidence",
   "metadata": {},
   "outputs": [
    {
     "name": "stdout",
     "output_type": "stream",
     "text": [
      "4\n",
      "9\n",
      "25\n",
      "49\n",
      "121\n"
     ]
    }
   ],
   "source": [
    "def square(x):\n",
    "    return x**2\n",
    "\n",
    "primes = [2, 3, 5, 7, 11]\n",
    "for prime in primes:\n",
    "    print(square(prime))"
   ]
  },
  {
   "cell_type": "markdown",
   "id": "pacific-navigator",
   "metadata": {
    "slideshow": {
     "slide_type": "subslide"
    }
   },
   "source": [
    "## 透過 `map()` 函數對可迭代類別中的元素使用函數的作法"
   ]
  },
  {
   "cell_type": "code",
   "execution_count": 19,
   "id": "speaking-essex",
   "metadata": {
    "slideshow": {
     "slide_type": "-"
    }
   },
   "outputs": [
    {
     "name": "stdout",
     "output_type": "stream",
     "text": [
      "<map object at 0x110cf0c70>\n",
      "<class 'map'>\n",
      "[4, 9, 25, 49, 121]\n",
      "[]\n"
     ]
    }
   ],
   "source": [
    "def square(x):\n",
    "    return x**2\n",
    "\n",
    "primes = [2, 3, 5, 7, 11]\n",
    "mapped = map(square, primes)\n",
    "print(mapped)\n",
    "print(type(mapped))\n",
    "print(list(mapped))\n",
    "print(list(mapped))"
   ]
  },
  {
   "cell_type": "markdown",
   "id": "danish-failing",
   "metadata": {
    "slideshow": {
     "slide_type": "subslide"
    }
   },
   "source": [
    "## `filter()` 函數\n",
    "\n",
    "- 將可迭代類別中的元素作為參數依序傳給指定函數，保留函數回傳值為 `True` 的輸出。\n",
    "- 輸出的類別為 `filter` 具有 Generator 特性。\n",
    "- 可以省去撰寫迴圈與條件敘述的作法。"
   ]
  },
  {
   "cell_type": "markdown",
   "id": "legislative-finland",
   "metadata": {
    "slideshow": {
     "slide_type": "subslide"
    }
   },
   "source": [
    "## 傳統對可迭代類別中的元素使用函數與條件敘述的作法"
   ]
  },
  {
   "cell_type": "code",
   "execution_count": 20,
   "id": "piano-failing",
   "metadata": {},
   "outputs": [
    {
     "name": "stdout",
     "output_type": "stream",
     "text": [
      "The Avengers\n"
     ]
    }
   ],
   "source": [
    "def my_favorite_avenger_movie(x):\n",
    "    return x == \"The Avengers\"\n",
    "\n",
    "avenger_movies = [\"The Avengers\", \"Avengers: Age of Ultron\", \"Avengers: Infinity War\", \"Avengers: Endgame\"]\n",
    "for movie in avenger_movies:\n",
    "    if my_favorite_avenger_movie(movie):\n",
    "        print(movie)"
   ]
  },
  {
   "cell_type": "markdown",
   "id": "interim-treasury",
   "metadata": {
    "slideshow": {
     "slide_type": "subslide"
    }
   },
   "source": [
    "## 透過 `filter()` 對可迭代類別中的元素使用函數與條件敘述的作法"
   ]
  },
  {
   "cell_type": "code",
   "execution_count": 21,
   "id": "quantitative-influence",
   "metadata": {
    "slideshow": {
     "slide_type": "-"
    }
   },
   "outputs": [
    {
     "name": "stdout",
     "output_type": "stream",
     "text": [
      "<filter object at 0x110ce3e20>\n",
      "<class 'filter'>\n",
      "['The Avengers']\n",
      "[]\n"
     ]
    }
   ],
   "source": [
    "def my_favorite_avenger_movie(x):\n",
    "    return x == \"The Avengers\"\n",
    "\n",
    "avenger_movies = [\"The Avengers\", \"Avengers: Age of Ultron\", \"Avengers: Infinity War\", \"Avengers: Endgame\"]\n",
    "filtered = filter(my_favorite_avenger_movie, avenger_movies)\n",
    "print(filtered)\n",
    "print(type(filtered))\n",
    "print(list(filtered))\n",
    "print(list(filtered))"
   ]
  },
  {
   "cell_type": "markdown",
   "id": "cheap-valve",
   "metadata": {
    "slideshow": {
     "slide_type": "subslide"
    }
   },
   "source": [
    "## 以 Lambda 敘述搭配函數型函數\n",
    "\n",
    "Lambda 敘述也稱為匿名函數，不同於使用 `def` 與 `return` 保留字所組成的結構來定義函數，Lambda 可以在不指定函數名稱的情況下「同時」定義並使用，並且只有在定義的當下被使用。"
   ]
  },
  {
   "cell_type": "markdown",
   "id": "israeli-tissue",
   "metadata": {
    "slideshow": {
     "slide_type": "subslide"
    }
   },
   "source": [
    "## 傳統的函數型函數作法\n",
    "\n",
    "```python\n",
    "# The traditional way\n",
    "def function():\n",
    "    ...\n",
    "    return ...\n",
    "\n",
    "functional_function(function, iterable)\n",
    "```"
   ]
  },
  {
   "cell_type": "code",
   "execution_count": 22,
   "id": "included-kelly",
   "metadata": {
    "slideshow": {
     "slide_type": "-"
    }
   },
   "outputs": [
    {
     "name": "stdout",
     "output_type": "stream",
     "text": [
      "[4, 9, 25, 49, 121]\n",
      "['The Avengers']\n"
     ]
    }
   ],
   "source": [
    "def square(x):\n",
    "    return x**2\n",
    "def my_favorite_avenger_movie(x):\n",
    "    return x == \"The Avengers\"\n",
    "\n",
    "primes = [2, 3, 5, 7, 11]\n",
    "avenger_movies = [\"The Avengers\", \"Avengers: Age of Ultron\", \"Avengers: Infinity War\", \"Avengers: Endgame\"]\n",
    "print(list(map(square, primes)))\n",
    "print(list(filter(my_favorite_avenger_movie, avenger_movies)))"
   ]
  },
  {
   "cell_type": "markdown",
   "id": "conservative-indian",
   "metadata": {
    "slideshow": {
     "slide_type": "subslide"
    }
   },
   "source": [
    "## 搭配 Lamda 敘述的函數型函數作法\n",
    "\n",
    "```python\n",
    "# The Lambda expression way\n",
    "functional_function(lambda INPUTS: OUTPUTS, iterable)\n",
    "```"
   ]
  },
  {
   "cell_type": "code",
   "execution_count": 23,
   "id": "simplified-treatment",
   "metadata": {
    "slideshow": {
     "slide_type": "-"
    }
   },
   "outputs": [
    {
     "name": "stdout",
     "output_type": "stream",
     "text": [
      "[4, 9, 25, 49, 121]\n",
      "['The Avengers']\n"
     ]
    }
   ],
   "source": [
    "primes = [2, 3, 5, 7, 11]\n",
    "avenger_movies = [\"The Avengers\", \"Avengers: Age of Ultron\", \"Avengers: Infinity War\", \"Avengers: Endgame\"]\n",
    "print(list(map(lambda x: x**2, primes)))\n",
    "print(list(filter(lambda x: x == \"The Avengers\", avenger_movies)))"
   ]
  }
 ],
 "metadata": {
  "celltoolbar": "Slideshow",
  "kernelspec": {
   "display_name": "Python 3 (ipykernel)",
   "language": "python",
   "name": "python3"
  },
  "language_info": {
   "codemirror_mode": {
    "name": "ipython",
    "version": 3
   },
   "file_extension": ".py",
   "mimetype": "text/x-python",
   "name": "python",
   "nbconvert_exporter": "python",
   "pygments_lexer": "ipython3",
   "version": "3.9.16"
  }
 },
 "nbformat": 4,
 "nbformat_minor": 5
}
