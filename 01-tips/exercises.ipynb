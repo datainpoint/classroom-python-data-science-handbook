{
 "cells": [
  {
   "cell_type": "markdown",
   "id": "heated-welding",
   "metadata": {
    "deletable": false
   },
   "source": [
    "# Python 的 50+ 練習：資料科學學習手冊\n",
    "\n",
    "> 讓程式更簡潔的 Python 技巧\n",
    "\n",
    "[數據交點](https://www.datainpoint.com) | 郭耀仁 <yaojenkuo@datainpoint.com>"
   ]
  },
  {
   "cell_type": "markdown",
   "id": "fleet-tokyo",
   "metadata": {
    "deletable": false
   },
   "source": [
    "## 練習題指引\n",
    "\n",
    "- 練習題閒置超過 10 分鐘會自動斷線，只要重新點選練習題連結即可重新啟動。\n",
    "- 第一個程式碼儲存格會將可能用得到的模組載入。\n",
    "- 如果練習題需要載入檔案，檔案存放絕對路徑為 `/home/jovyan/data`，相對路徑為 `../data`\n",
    "- 練習題已經給定函數、類別、預期輸入或參數名稱，我們只需要寫作程式區塊。同時也給定函數的類別提示，說明預期輸入以及預期輸出的類別。\n",
    "- 說明（Docstring）會描述測試如何進行，閱讀說明能夠暸解預期輸入以及預期輸出之間的關係，幫助我們更快解題。\n",
    "- 請在 `### BEGIN SOLUTION` 與 `### END SOLUTION` 這兩個註解之間寫作函數或者類別的程式區塊。\n",
    "- 將預期輸出放置在 `return` 保留字之後，若只是用 `print()` 函數將預期輸出印出無法通過測試。\n",
    "- 語法錯誤（`SyntaxError`）或縮排錯誤（`IndentationError`）等將會導致測試失效，測試之前應該先在筆記本使用函數觀察是否與說明（Docstring）描述的功能相符。\n",
    "- 如果卡關，可以先看練習題詳解或者複習課程單元影片之後再繼續寫作。\n",
    "- 執行測試的步驟：\n",
    "    1. 點選上方選單的 File -> Save Notebook 儲存 exercises.ipynb。\n",
    "    2. 點選上方選單的 File -> New -> Terminal 開啟終端機。\n",
    "    3. 在終端機輸入 `python 08-tips/test_runner.py` 後按下 Enter 執行測試。"
   ]
  },
  {
   "cell_type": "markdown",
   "id": "typical-impact",
   "metadata": {},
   "source": [
    "## 059. 雙倍彈性參數\n",
    "\n",
    "定義函數 `double_args()` 能夠將彈性參數雙倍後回傳。\n",
    "\n",
    "- 運用彈性參數 `*args`\n",
    "- 運用 List comprehension\n",
    "- 將預期輸出寫在 `return` 之後。"
   ]
  },
  {
   "cell_type": "code",
   "execution_count": null,
   "id": "wound-statement",
   "metadata": {},
   "outputs": [],
   "source": [
    "def double_args(*args) -> list:\n",
    "    \"\"\"\n",
    "    >>> double_args(55)\n",
    "    [110]\n",
    "    >>> double_args(55, 66)\n",
    "    [110, 132]\n",
    "    >>> double_args(55, 66, \"5566\")\n",
    "    [110, 132, '55665566']\n",
    "    \"\"\"\n",
    "    ### BEGIN SOLUTION\n",
    "    \n",
    "    ### END SOLUTION"
   ]
  },
  {
   "cell_type": "markdown",
   "id": "ceramic-mason",
   "metadata": {},
   "source": [
    "## 060. 雙倍彈性參數中的奇數\n",
    "\n",
    "定義函數 `double_odd_args()` 能夠將彈性參數中的奇數雙倍後回傳。\n",
    "\n",
    "- 運用彈性參數 `*args`\n",
    "- 運用 List comprehension\n",
    "- 將預期輸出寫在 `return` 之後。"
   ]
  },
  {
   "cell_type": "code",
   "execution_count": null,
   "id": "aggressive-commonwealth",
   "metadata": {},
   "outputs": [],
   "source": [
    "def double_odd_args(*args) -> list:\n",
    "    \"\"\"\n",
    "    >>> double_odd_args(55)\n",
    "    [110]\n",
    "    >>> double_odd_args(55, 66)\n",
    "    [110]\n",
    "    >>> double_odd_args(55, 66, 77, 88)\n",
    "    [110, 154]\n",
    "    \"\"\"\n",
    "    ### BEGIN SOLUTION\n",
    "    \n",
    "    ### END SOLUTION"
   ]
  },
  {
   "cell_type": "markdown",
   "id": "outstanding-chancellor",
   "metadata": {},
   "source": [
    "## 061. 彈性參數是不是雙位數\n",
    "\n",
    "定義函數 `is_double_digit_args()` 能夠判斷彈性參數中的數字是否為雙位數。\n",
    "\n",
    "- 運用彈性參數 `*args`\n",
    "- 運用 List comprehension\n",
    "- 將預期輸出寫在 `return` 之後。"
   ]
  },
  {
   "cell_type": "code",
   "execution_count": null,
   "id": "dedicated-latin",
   "metadata": {},
   "outputs": [],
   "source": [
    "def is_double_digit_args(*args) -> list:\n",
    "    \"\"\"\n",
    "    >>> is_double_digit_args(5)\n",
    "    ['No']\n",
    "    >>> is_double_digit_args(5, 55)\n",
    "    ['No', 'Yes']\n",
    "    >>> is_double_digit_args(5, 55, 5566)\n",
    "    ['No', 'Yes', 'No']\n",
    "    \"\"\"\n",
    "    ### BEGIN SOLUTION\n",
    "    \n",
    "    ### END SOLUTION"
   ]
  },
  {
   "cell_type": "markdown",
   "id": "equal-numbers",
   "metadata": {},
   "source": [
    "## 062. 反轉文字為 `list`\n",
    "\n",
    "定義函數 `reverse_str_as_list()` 能夠反轉文字為 `list`\n",
    "\n",
    "- 使用 `reversed()` 函數。\n",
    "- 將預期輸出寫在 `return` 之後。"
   ]
  },
  {
   "cell_type": "code",
   "execution_count": null,
   "id": "polyphonic-precipitation",
   "metadata": {},
   "outputs": [],
   "source": [
    "def reverse_str_as_list(x: str) -> list:\n",
    "    \"\"\"\n",
    "    >>> reverse_str_as_list(\"Python\")\n",
    "    ['n', 'o', 'h', 't', 'y', 'P']\n",
    "    >>> reverse_str_as_list(\"Anaconda\")\n",
    "    ['a', 'd', 'n', 'o', 'c', 'a', 'n', 'A']\n",
    "    \"\"\"\n",
    "    ### BEGIN SOLUTION\n",
    "    \n",
    "    ### END SOLUTION"
   ]
  },
  {
   "cell_type": "markdown",
   "id": "junior-venture",
   "metadata": {},
   "source": [
    "## 063. 反轉文字並大小寫互換為 `list`\n",
    "\n",
    "定義函數 `reverse_str_swapcase_as_list()` 能夠反轉文字並大小寫互換為 `list`\n",
    "\n",
    "- 使用 `reversed()` 函數。\n",
    "- 使用 `str.swapcase()`\n",
    "- 運用 List comprehension\n",
    "- 將預期輸出寫在 `return` 之後。"
   ]
  },
  {
   "cell_type": "code",
   "execution_count": null,
   "id": "reserved-aquatic",
   "metadata": {},
   "outputs": [],
   "source": [
    "def reverse_str_swapcase_as_list(x: str) -> list:\n",
    "    \"\"\"\n",
    "    >>> reverse_str_swapcase_as_list(\"Python\")\n",
    "    ['N', 'O', 'H', 'T', 'Y', 'p']\n",
    "    >>> reverse_str_swapcase_as_list(\"Anaconda\")\n",
    "    ['A', 'D', 'N', 'O', 'C', 'A', 'N', 'a']\n",
    "    \"\"\"\n",
    "    ### BEGIN SOLUTION\n",
    "    \n",
    "    ### END SOLUTION"
   ]
  },
  {
   "cell_type": "markdown",
   "id": "reserved-tribute",
   "metadata": {},
   "source": [
    "## 064. 最大值的位置\n",
    "\n",
    "定義函數 `idxmax()` 能夠將輸入 `list` 中最大值的索引值回傳。\n",
    "\n",
    "- 使用 `max()` 函數。\n",
    "- 使用 `enumerate()` 函數。\n",
    "- 運用迴圈走訪 `enumerate`\n",
    "- 運用關係運算符。\n",
    "- 運用 List comprehension\n",
    "- 將預期輸出寫在 `return` 之後。"
   ]
  },
  {
   "cell_type": "code",
   "execution_count": null,
   "id": "grave-revelation",
   "metadata": {},
   "outputs": [],
   "source": [
    "def idxmax(x: list) -> list:\n",
    "    \"\"\"\n",
    "    >>> idxmax([55, 66, 5566])\n",
    "    [2]\n",
    "    >>> idxmax([5, 6, 5, 6])\n",
    "    [1, 3]\n",
    "    >>> idxmax([5, 5, 6, 6])\n",
    "    [2, 3]\n",
    "    \"\"\"\n",
    "    ### BEGIN SOLUTION\n",
    "    \n",
    "    ### END SOLUTION"
   ]
  },
  {
   "cell_type": "markdown",
   "id": "unauthorized-jason",
   "metadata": {},
   "source": [
    "## 065. 具備屬性與方法的最大最小值索引類別\n",
    "\n",
    "定義類別 `IndexMinMax` 能夠能夠用來建立具有一個屬性 `input_list` 以及兩個方法 `idxmax()`、`idxmin()` 的物件。\n",
    "\n",
    "- 以類別組織 `idxmax()` 與 `idxmin()`\n",
    "- 使用 `self`\n",
    "- 使用 `__init__()`\n",
    "- 以 `self.attribute` 在類別程式區塊中使用屬性。\n",
    "- 以 `self.method()` 在類別程式區塊中使用方法。"
   ]
  },
  {
   "cell_type": "code",
   "execution_count": null,
   "id": "manufactured-vietnamese",
   "metadata": {},
   "outputs": [],
   "source": [
    "class IndexMinMax:\n",
    "    \"\"\"\n",
    "    >>> index_min_max = IndexMinMax([55, 66, 5566])\n",
    "    >>> index_min_max.input_list\n",
    "    [55, 66, 5566]\n",
    "    >>> index_min_max.idxmax()\n",
    "    [2]\n",
    "    >>> index_min_max.idxmin()\n",
    "    [0]\n",
    "    >>> index_min_max = IndexMinMax([5, 6, 5, 6])\n",
    "    >>> index_min_max.input_list\n",
    "    [5, 6, 5, 6]\n",
    "    >>> index_min_max.idxmax()\n",
    "    [1, 3]\n",
    "    >>> index_min_max.idxmin()\n",
    "    [0, 2]\n",
    "    >>> index_min_max = IndexMinMax([5, 5, 6, 6])\n",
    "    >>> index_min_max.input_list\n",
    "    [5, 5, 6, 6]\n",
    "    >>> index_min_max.idxmax()\n",
    "    [2, 3]\n",
    "    >>> index_min_max.idxmin()\n",
    "    [0, 1]\n",
    "    \"\"\"\n",
    "    ### BEGIN SOLUTION\n",
    "    \n",
    "    ### END SOLUTION"
   ]
  },
  {
   "cell_type": "markdown",
   "id": "enclosed-glance",
   "metadata": {},
   "source": [
    "## 066. 計算多人的 BMI\n",
    "\n",
    "定義函數 `calculate_bmis` 能夠將多人的身高（公分）與體重（公斤）換算為身體質量指數（Body Mass Index, BMI）。\n",
    "\n",
    "\\begin{equation}\n",
    "\\text{BMI} = \\frac{\\text{weight}_{kg}}{\\text{height}_{m}^2}\n",
    "\\end{equation}\n",
    "\n",
    "- 使用 `zip()` 函數。\n",
    "- 運用迴圈走訪 `zip`\n",
    "- 運用數值運算符。\n",
    "- 運用 List comprehension\n",
    "- 將預期輸出寫在 `return` 之後。"
   ]
  },
  {
   "cell_type": "code",
   "execution_count": null,
   "id": "south-michigan",
   "metadata": {},
   "outputs": [],
   "source": [
    "def calculate_bmis(heights: list, weights: list) -> list:\n",
    "    \"\"\"\n",
    "    >>> calculate_bmis([206, 211, 201], [113, 110, 104]) # LeBron James, Giannis Antetokounmpo, Luka Doncic\n",
    "    [26.628334433028563, 24.70744143213315, 25.74193708076532]\n",
    "    \"\"\"\n",
    "    ### BEGIN SOLUTION\n",
    "    \n",
    "    ### END SOLUTION"
   ]
  },
  {
   "cell_type": "markdown",
   "id": "convertible-encyclopedia",
   "metadata": {},
   "source": [
    "## 067. 運用 `map()` 雙倍彈性參數\n",
    "\n",
    "定義函數 `double_args_with_map()` 能夠將彈性參數雙倍後回傳。\n",
    "\n",
    "- 運用彈性參數 `*args`\n",
    "- 運用 `map()` 函數。\n",
    "- 運用 `lambda` 敘述。\n",
    "- 將預期輸出寫在 `return` 之後。"
   ]
  },
  {
   "cell_type": "code",
   "execution_count": null,
   "id": "another-appliance",
   "metadata": {},
   "outputs": [],
   "source": [
    "def double_args_with_map(*args) -> map:\n",
    "    \"\"\"\n",
    "    >>> type(double_args_with_map(55))\n",
    "    map\n",
    "    >>> list(double_args_with_map(55))\n",
    "    [110]\n",
    "    >>> type(double_args_with_map(55, 66))\n",
    "    map\n",
    "    >>> tuple(double_args_with_map(55, 66))\n",
    "    (110, 132)\n",
    "    >>> type(double_args_with_map(55, 66, \"5566\"))\n",
    "    map\n",
    "    >>> tuple(double_args_with_map(55, 66, \"5566\"))\n",
    "    (110, 132, '55665566')\n",
    "    \"\"\"\n",
    "    ### BEGIN SOLUTION\n",
    "    \n",
    "    ### END SOLUTION"
   ]
  },
  {
   "cell_type": "markdown",
   "id": "wicked-maple",
   "metadata": {},
   "source": [
    "## 068. 運用 `filter()` 挑出 `str` 彈性參數\n",
    "\n",
    "定義函數 `filter_str_args_with_filter()` 能夠將彈性參數中的 `str` 回傳。\n",
    "\n",
    "- 運用彈性參數 `*args`\n",
    "- 運用 `filter()` 函數。\n",
    "- 運用 `lambda` 敘述。\n",
    "- 將預期輸出寫在 `return` 之後。"
   ]
  },
  {
   "cell_type": "code",
   "execution_count": null,
   "id": "worth-landscape",
   "metadata": {},
   "outputs": [],
   "source": [
    "def filter_str_args_with_filter(*args) -> filter:\n",
    "    \"\"\"\n",
    "    >>> type(filter_str_args_with_filter(\"5566\"))\n",
    "    filter\n",
    "    >>> list(filter_str_args_with_filter(\"5566\"))\n",
    "    ['5566']\n",
    "    >>> type(filter_str_args_with_filter(\"5566\", 5566, False, True, \"Luke Skywalker\"))\n",
    "    filter\n",
    "    >>> tuple(filter_str_args_with_filter(\"5566\", 5566, False, True, \"Luke Skywalker\"))\n",
    "    ('5566', 'Luke Skywalker')\n",
    "    \"\"\"\n",
    "    ### BEGIN SOLUTION\n",
    "    \n",
    "    ### END SOLUTION"
   ]
  }
 ],
 "metadata": {
  "kernelspec": {
   "display_name": "Python 3 (ipykernel)",
   "language": "python",
   "name": "python3"
  },
  "language_info": {
   "codemirror_mode": {
    "name": "ipython",
    "version": 3
   },
   "file_extension": ".py",
   "mimetype": "text/x-python",
   "name": "python",
   "nbconvert_exporter": "python",
   "pygments_lexer": "ipython3",
   "version": "3.9.5"
  }
 },
 "nbformat": 4,
 "nbformat_minor": 5
}
